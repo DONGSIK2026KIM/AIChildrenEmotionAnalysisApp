{
 "cells": [
  {
   "cell_type": "code",
   "execution_count": 6,
   "metadata": {},
   "outputs": [],
   "source": [
    "import pandas as pd\n",
    "import matplotlib.pyplot as plt\n",
    "from gensim.models.word2vec import Word2Vec\n",
    "from konlpy.tag import Okt\n",
    "from tqdm import tqdm\n",
    "import tensorflow as tf\n",
    "\n",
    "\n",
    "from tensorflow.keras.preprocessing.text import Tokenizer\n",
    "from tensorflow.keras.preprocessing.sequence import pad_sequences\n",
    "from tensorflow.keras.layers import Embedding, Dense, LSTM\n",
    "from tensorflow.keras.models import Sequential\n",
    "from tensorflow.keras.models import load_model\n",
    "from tensorflow.keras.callbacks import EarlyStopping, ModelCheckpoint\n",
    "from tensorflow.keras.layers import SimpleRNN\n",
    "\n",
    "okt = Okt()"
   ]
  },
  {
   "cell_type": "code",
   "execution_count": 7,
   "metadata": {},
   "outputs": [],
   "source": [
    "# vocab_size = 20000  # 빈도수 상위 2만개의 단어만 사용\n",
    "# max_len = 200  # 문장의 최대 길이"
   ]
  },
  {
   "cell_type": "code",
   "execution_count": 8,
   "metadata": {},
   "outputs": [],
   "source": [
    "train_data = pd.read_csv('X_train.csv')\n",
    "test_data = pd.read_csv('X_test.csv')"
   ]
  },
  {
   "cell_type": "code",
   "execution_count": 9,
   "metadata": {},
   "outputs": [
    {
     "name": "stdout",
     "output_type": "stream",
     "text": [
      "         num  label                                           document\n",
      "0          1      4                          일은 왜 해도 해도 끝이 없을까? 화가 난다.\n",
      "1          2      4     이번 달에 또 급여가 깎였어! 물가는 오르는데 월급만 자꾸 깎이니까 너무 화가 나.\n",
      "2          3      4  회사에 신입이 들어왔는데 말투가 거슬려. 그런 애를 매일 봐야 한다고 생각하니까 스...\n",
      "3          4      4  직장에서 막내라는 이유로 나에게만 온갖 심부름을 시켜. 일도 많은 데 정말 분하고 ...\n",
      "4          5      4              얼마 전 입사한 신입사원이 나를 무시하는 것 같아서 너무 화가 나.\n",
      "...      ...    ...                                                ...\n",
      "51625  51626      4     나이가 먹고 이제 돈도 못 벌어 오니까 어떻게 살아가야 할지 막막해. 능력도 없고.\n",
      "51626  51627      1        몸이 많이 약해졌나 봐. 이제 전과 같이 일하지 못할 것 같아 너무 짜증 나.\n",
      "51627  51628      5   이제 어떻게 해야 할지 모르겠어. 남편도 그렇고 노후 준비도 안 되어서 미래가 걱정돼.\n",
      "51628  51629      1  몇십 년을 함께 살았던 남편과 이혼했어. 그동안의 세월에 배신감을 느끼고 너무 화가 나.\n",
      "51629  51630      5  남편과 결혼한 지 사십 년이야. 이제 사람 만나는 것도 버겁고 알던 사람도 점점 사라져.\n",
      "\n",
      "[51630 rows x 3 columns]\n"
     ]
    }
   ],
   "source": [
    "print(train_data)"
   ]
  },
  {
   "cell_type": "code",
   "execution_count": 10,
   "metadata": {},
   "outputs": [
    {
     "name": "stdout",
     "output_type": "stream",
     "text": [
      "전처리 후 테스트용 샘플의 개수 : 6641\n"
     ]
    },
    {
     "name": "stderr",
     "output_type": "stream",
     "text": [
      "C:\\Users\\Public\\Documents\\ESTsoft\\CreatorTemp\\ipykernel_22040\\729634971.py:8: FutureWarning: The default value of regex will change from True to False in a future version.\n",
      "  train_data['document'] = train_data['document'].str.replace(\"[^ㄱ-ㅎㅏ-ㅣ가-힣 ]\",\"\")\n",
      "C:\\Users\\Public\\Documents\\ESTsoft\\CreatorTemp\\ipykernel_22040\\729634971.py:12: FutureWarning: The default value of regex will change from True to False in a future version.\n",
      "  test_data['document'] = test_data['document'].str.replace(\"[^ㄱ-ㅎㅏ-ㅣ가-힣 ]\",\"\") # 정규 표현식 수행\n"
     ]
    }
   ],
   "source": [
    "# train_data['document'].nunique(), train_data['label'].nunique() # document 열의 중복 제거\n",
    "# train_data.drop_duplicates(subset=['document'], inplace=True)\n",
    "# print('총 샘플의 수 :',len(train_data))\n",
    "# print(train_data.groupby('label').size().reset_index(name = 'count'))\n",
    "# train_data['label'].value_counts().plot(kind = 'bar')\n",
    "\n",
    "# 한글과 공백을 제외하고 모두 제거\n",
    "train_data['document'] = train_data['document'].str.replace(\"[^ㄱ-ㅎㅏ-ㅣ가-힣 ]\",\"\")\n",
    "train_data[:5]\n",
    "\n",
    "test_data.drop_duplicates(subset = ['document'], inplace=True) # document 열에서 중복인 내용이 있다면 중복 제거\n",
    "test_data['document'] = test_data['document'].str.replace(\"[^ㄱ-ㅎㅏ-ㅣ가-힣 ]\",\"\") # 정규 표현식 수행\n",
    "print('전처리 후 테스트용 샘플의 개수 :',len(test_data))"
   ]
  },
  {
   "cell_type": "code",
   "execution_count": 11,
   "metadata": {},
   "outputs": [
    {
     "name": "stderr",
     "output_type": "stream",
     "text": [
      "100%|██████████| 51630/51630 [02:11<00:00, 393.50it/s]\n",
      "100%|██████████| 6641/6641 [00:17<00:00, 378.67it/s]\n"
     ]
    },
    {
     "name": "stdout",
     "output_type": "stream",
     "text": [
      "[[29, 94, 306, 306, 870, 9, 74, 56], [55, 311, 188, 1480, 1916, 3082, 468, 421, 21, 90, 1916, 4, 74, 3], [28, 822, 325, 3083, 2810, 101, 125, 185, 12, 44, 119, 19]]\n",
      "[[55, 385, 10, 559, 2, 287, 402, 46, 253, 9684, 1, 19, 4, 159], [28, 10, 635, 385, 100, 20, 1069, 191, 249], [162, 4, 249, 116, 854, 26, 4, 191]]\n",
      "훈련용 리뷰 개수 : 51630\n",
      "테스트용 리뷰 개수 : 6641\n"
     ]
    }
   ],
   "source": [
    "okt = Okt()\n",
    "stopwords = ['의','가','이','은','들','는','좀','잘','걍','과','도','를','으로','자','에','와','한','하다']\n",
    "\n",
    "X_train = []\n",
    "for sentence in tqdm(train_data['document']):\n",
    "    tokenized_sentence = okt.morphs(sentence, stem=True) # 토큰화\n",
    "    stopwords_removed_sentence = [word for word in tokenized_sentence if not word in stopwords] # 불용어 제거\n",
    "    X_train.append(stopwords_removed_sentence)\n",
    "\n",
    "X_test = []\n",
    "for sentence in tqdm(test_data['document']):\n",
    "    tokenized_sentence = okt.morphs(sentence, stem=True) # 토큰화\n",
    "    stopwords_removed_sentence = [word for word in tokenized_sentence if not word in stopwords] # 불용어 제거\n",
    "    X_test.append(stopwords_removed_sentence)\n",
    "\n",
    "tokenizer = Tokenizer()\n",
    "tokenizer.fit_on_texts(X_train)\n",
    "\n",
    "\n",
    "# threshold = 3\n",
    "# total_cnt = len(tokenizer.word_index) # 단어의 수\n",
    "# rare_cnt = 0 # 등장 빈도수가 threshold보다 작은 단어의 개수를 카운트\n",
    "# total_freq = 0 # 훈련 데이터의 전체 단어 빈도수 총 합\n",
    "# rare_freq = 0 # 등장 빈도수가 threshold보다 작은 단어의 등장 빈도수의 총 합\n",
    "\n",
    "# # 단어와 빈도수의 쌍(pair)을 key와 value로 받는다.\n",
    "# for key, value in tokenizer.word_counts.items():\n",
    "#     total_freq = total_freq + value\n",
    "\n",
    "#     # 단어의 등장 빈도수가 threshold보다 작으면\n",
    "#     if(value < threshold):\n",
    "#         rare_cnt = rare_cnt + 1\n",
    "#         rare_freq = rare_freq + value\n",
    "\n",
    "# print('단어 집합(vocabulary)의 크기 :',total_cnt)\n",
    "# print('등장 빈도가 %s번 이하인 희귀 단어의 수: %s'%(threshold - 1, rare_cnt))\n",
    "# print(\"단어 집합에서 희귀 단어의 비율:\", (rare_cnt / total_cnt)*100)\n",
    "# print(\"전체 등장 빈도에서 희귀 단어 등장 빈도 비율:\", (rare_freq / total_freq)*100)\n",
    "# # 전체 단어 개수 중 빈도수 2이하인 단어는 제거.\n",
    "# # 0번 패딩 토큰을 고려하여 + 1\n",
    "# vocab_size = total_cnt - rare_cnt + 1\n",
    "# print('단어 집합의 크기 :',vocab_size)\n",
    "\n",
    "\n",
    "\n",
    "vocab_size = 20000  # 빈도수 상위 2만개의 단어만 사용\n",
    "max_len = 50  # 문장의 최대 길이\n",
    "\n",
    "tokenizer = Tokenizer(vocab_size) \n",
    "tokenizer.fit_on_texts(X_train)\n",
    "X_train = tokenizer.texts_to_sequences(X_train)\n",
    "X_test = tokenizer.texts_to_sequences(X_test)\n",
    "print(X_train[:3])\n",
    "print(X_test[:3])\n",
    "\n",
    "print('훈련용 리뷰 개수 : {}'.format(len(X_train)))\n",
    "print('테스트용 리뷰 개수 : {}'.format(len(X_test)))\n",
    "\n",
    "X_train = tf.keras.preprocessing.sequence.pad_sequences(X_train, maxlen=max_len)\n",
    "X_test = tf.keras.preprocessing.sequence.pad_sequences(X_test, maxlen=max_len)"
   ]
  },
  {
   "cell_type": "code",
   "execution_count": 12,
   "metadata": {},
   "outputs": [
    {
     "name": "stdout",
     "output_type": "stream",
     "text": [
      "발화의 최대 길이 : 50\n",
      "발화의 평균 길이 : 50.0\n"
     ]
    },
    {
     "data": {
      "image/png": "[encoded data removed]",
      "text/plain": [
       "<Figure size 640x480 with 1 Axes>"
      ]
     },
     "metadata": {},
     "output_type": "display_data"
    }
   ],
   "source": [
    "import numpy as np\n",
    "y_train = np.array(train_data['label'])\n",
    "y_test = np.array(test_data['label'])\n",
    "\n",
    "print('발화의 최대 길이 :',max(len(review) for review in X_train))\n",
    "print('발화의 평균 길이 :',sum(map(len, X_train))/len(X_train))\n",
    "plt.hist([len(review) for review in X_train], bins=50)\n",
    "plt.xlabel('length of samples')\n",
    "plt.ylabel('number of samples')\n",
    "plt.show()"
   ]
  },
  {
   "cell_type": "code",
   "execution_count": 13,
   "metadata": {},
   "outputs": [
    {
     "name": "stdout",
     "output_type": "stream",
     "text": [
      "훈련용 리뷰 개수 : 51630\n",
      "테스트용 리뷰 개수 : 6641\n"
     ]
    }
   ],
   "source": [
    "print('훈련용 리뷰 개수 : {}'.format(len(X_train)))\n",
    "print('테스트용 리뷰 개수 : {}'.format(len(X_test)))"
   ]
  },
  {
   "cell_type": "code",
   "execution_count": 14,
   "metadata": {},
   "outputs": [
    {
     "name": "stdout",
     "output_type": "stream",
     "text": [
      "Epoch 1/15\n",
      "646/646 [==============================] - ETA: 0s - loss: 1.3205 - acc: 0.5027\n",
      "Epoch 1: val_acc improved from -inf to 0.38117, saving model to best_model.h5\n",
      "646/646 [==============================] - 132s 197ms/step - loss: 1.3205 - acc: 0.5027 - val_loss: 1.6089 - val_acc: 0.3812\n",
      "Epoch 2/15\n",
      "646/646 [==============================] - ETA: 0s - loss: 1.1146 - acc: 0.5902\n",
      "Epoch 2: val_acc improved from 0.38117 to 0.38621, saving model to best_model.h5\n",
      "646/646 [==============================] - 109s 169ms/step - loss: 1.1146 - acc: 0.5902 - val_loss: 1.6347 - val_acc: 0.3862\n",
      "Epoch 3/15\n",
      "646/646 [==============================] - ETA: 0s - loss: 1.0567 - acc: 0.6150\n",
      "Epoch 3: val_acc did not improve from 0.38621\n",
      "646/646 [==============================] - 121s 187ms/step - loss: 1.0567 - acc: 0.6150 - val_loss: 1.6252 - val_acc: 0.3834\n",
      "Epoch 4/15\n",
      "646/646 [==============================] - ETA: 0s - loss: 1.0122 - acc: 0.6352\n",
      "Epoch 4: val_acc did not improve from 0.38621\n",
      "646/646 [==============================] - 114s 176ms/step - loss: 1.0122 - acc: 0.6352 - val_loss: 1.6523 - val_acc: 0.3848\n",
      "Epoch 5/15\n",
      "646/646 [==============================] - ETA: 0s - loss: 0.9694 - acc: 0.6518\n",
      "Epoch 5: val_acc did not improve from 0.38621\n",
      "646/646 [==============================] - 128s 198ms/step - loss: 0.9694 - acc: 0.6518 - val_loss: 1.6973 - val_acc: 0.3784\n",
      "Epoch 5: early stopping\n",
      "208/208 [==============================] - 7s 35ms/step - loss: 0.9027 - acc: 0.6784\n",
      "\n",
      " 테스트 정확도: 0.6784\n",
      "(array([[   0,    0,    0, ...,   19,    4,  159],\n",
      "       [   0,    0,    0, ..., 1069,  191,  249],\n",
      "       [   0,    0,    0, ...,   26,    4,  191],\n",
      "       ...,\n",
      "       [   0,    0,    0, ...,   21,  750,  283],\n",
      "       [   0,    0,    0, ..., 1690,  614,   12],\n",
      "       [   0,    0,    0, ..., 1365,  139,  723]]), array([1, 1, 1, ..., 3, 3, 3], dtype=int64))\n"
     ]
    }
   ],
   "source": [
    "# print(\"\\n 테스트 정확도: %.4f\" % (model.evaluate(\"철수랑 싸웠어\", 4)))\n",
    "embedding_dim = 256 # 임베딩 벡터의 차원\n",
    "hidden_units = 128  # 뉴런의 수\n",
    "\n",
    "model = Sequential()\n",
    "model.add(Embedding(vocab_size, embedding_dim))\n",
    "model.add(LSTM(hidden_units))\n",
    "model.add(Dense(6, activation='softmax'))\n",
    "\n",
    "es = EarlyStopping(monitor='val_loss', mode='min', verbose=1, patience=4)\n",
    "mc = ModelCheckpoint('best_model.h5', monitor='val_acc', mode='max', verbose=1, \n",
    "                                           save_best_only=True)\n",
    "model.compile(optimizer='rmsprop', loss='sparse_categorical_crossentropy', \n",
    "                           metrics=['acc'])\n",
    "history = model.fit(X_train, y_train, epochs=15, callbacks=[es, mc], \n",
    "                               batch_size=64, validation_split=0.2)\n",
    "\n",
    "print(\"\\n 테스트 정확도: %.4f\" % (model.evaluate(X_test, y_test)[1]))\n",
    "print(((X_test, y_test)))"
   ]
  },
  {
   "cell_type": "code",
   "execution_count": 15,
   "metadata": {},
   "outputs": [],
   "source": [
    "# sentiment_predict('철수랑 싸웠어')"
   ]
  },
  {
   "cell_type": "code",
   "execution_count": 16,
   "metadata": {},
   "outputs": [
    {
     "name": "stdout",
     "output_type": "stream",
     "text": [
      "[[   0    0    0    0    0    0    0    0    0    0    0    0    0    0\n",
      "     0    0    0    0    0    0    0    0    0    0    0    0    0    0\n",
      "     0    0    0    0    0    0    0    0    0    0    0    0    0    0\n",
      "     0    0    0    0    0    0    0 4825]]\n",
      "1/1 [==============================] - 1s 887ms/step\n",
      "[[0.284112   0.1284523  0.13363278 0.13357721 0.1581092  0.16211656]]\n"
     ]
    }
   ],
   "source": [
    "# loaded_model = load_model('transformer_model.h5')\n",
    "def predict(sentence) :\n",
    "    sentence = okt.morphs(sentence, stem=True) # 토큰화\n",
    "    x_test = tokenizer.texts_to_sequences([sentence])\n",
    "\n",
    "    x_test = pad_sequences(x_test, maxlen=50)\n",
    "    print(x_test)\n",
    "    print(model.predict(x_test))\n",
    "\n",
    "sentence = \"기쁨\"\n",
    "predict(sentence)"
   ]
  },
  {
   "cell_type": "code",
   "execution_count": 17,
   "metadata": {},
   "outputs": [],
   "source": [
    "# import os\n",
    "# print('JAVA_HOME' in os.environ)"
   ]
  },
  {
   "cell_type": "code",
   "execution_count": 18,
   "metadata": {},
   "outputs": [],
   "source": [
    "# os.environ['JAVA_HOME'] = r'C:\\Program Files\\Java\\jdk-17.0.2\\bin\\server'"
   ]
  }
 ],
 "metadata": {
  "kernelspec": {
   "display_name": "base",
   "language": "python",
   "name": "python3"
  },
  "language_info": {
   "codemirror_mode": {
    "name": "ipython",
    "version": 3
   },
   "file_extension": ".py",
   "mimetype": "text/x-python",
   "name": "python",
   "nbconvert_exporter": "python",
   "pygments_lexer": "ipython3",
   "version": "3.9.13"
  },
  "vscode": {
   "interpreter": {
    "hash": "4bfa53c3ccf1e84a86441dc8a1194c438d4b6cd22485673fdc9c8fd1f0de03ba"
   }
  }
 },
 "nbformat": 4,
 "nbformat_minor": 2
}
